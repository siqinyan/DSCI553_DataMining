{
 "cells": [
  {
   "cell_type": "code",
   "execution_count": 1,
   "metadata": {},
   "outputs": [],
   "source": [
    "import time\n",
    "import math\n",
    "from itertools import combinations\n",
    "from pyspark import SparkContext\n",
    "from operator import add"
   ]
  },
  {
   "cell_type": "markdown",
   "metadata": {},
   "source": [
    "### Task1: Simulated small data (8.5 pts)"
   ]
  },
  {
   "cell_type": "markdown",
   "metadata": {},
   "source": [
    "There are two CSV files (small1.csv and small2.csv) provided on the Vocareum in your workspace. The small1.csv is just a sample file that you can use to debug your code. For Task1, we will test your code on small2.csv for grading.\n",
    "\n",
    "In this task, you need to build two kinds of market-basket models."
   ]
  },
  {
   "cell_type": "markdown",
   "metadata": {},
   "source": [
    "#### Case 1 (4.25 pts)"
   ]
  },
  {
   "cell_type": "markdown",
   "metadata": {},
   "source": [
    "You will calculate the combinations of frequent businesses (as singletons, pairs, triples, etc.) that are qualified as “frequent” given a support threshold. You need to create a basket for each user containing the business ids reviewed by this user. If a business was reviewed more than once by a reviewer, we consider this product was rated only once. More specifically, the business ids within each basket are unique. The generated baskets are similar to:\n",
    "\n",
    "user1: [business11, business12, business13, ...]\n",
    "\n",
    "user2: [business21, business22, business23, ...]\n",
    "\n",
    "user3: [business31, business32, business33, ...]"
   ]
  },
  {
   "cell_type": "code",
   "execution_count": null,
   "metadata": {},
   "outputs": [],
   "source": [
    "# params = sys.argv\n",
    "# case_number, support = int(params[1]), int(params[2])\n",
    "# input_file_path, output_file_path = params[3], params[4]"
   ]
  },
  {
   "cell_type": "code",
   "execution_count": 2,
   "metadata": {},
   "outputs": [],
   "source": [
    "case_number, support = 1, 4\n",
    "input_file_path = './small1.csv'"
   ]
  },
  {
   "cell_type": "code",
   "execution_count": 3,
   "metadata": {},
   "outputs": [],
   "source": [
    "sc = SparkContext.getOrCreate()"
   ]
  },
  {
   "cell_type": "code",
   "execution_count": 4,
   "metadata": {},
   "outputs": [],
   "source": [
    "small = sc.textFile(input_file_path).map(lambda l: l.split(\",\"))"
   ]
  },
  {
   "cell_type": "code",
   "execution_count": 5,
   "metadata": {},
   "outputs": [],
   "source": [
    "# header = small.top(1)[0]\n",
    "header = small.first()\n",
    "if case_number==1:\n",
    "    data = small.filter(lambda l: l!=header) \\\n",
    "                .map(lambda u_b: (u_b[0], u_b[1]))\n",
    "elif case_number==2:\n",
    "    data = small.filter(lambda l: l!=header) \\\n",
    "            .map(lambda u_b: (u_b[1], u_b[0]))"
   ]
  },
  {
   "cell_type": "code",
   "execution_count": 6,
   "metadata": {
    "scrolled": true
   },
   "outputs": [
    {
     "data": {
      "text/plain": [
       "[('1', '100'), ('1', '98')]"
      ]
     },
     "execution_count": 6,
     "metadata": {},
     "output_type": "execute_result"
    }
   ],
   "source": [
    "data.take(2)"
   ]
  },
  {
   "cell_type": "code",
   "execution_count": 7,
   "metadata": {},
   "outputs": [
    {
     "data": {
      "text/plain": [
       "[['100', '101', '102', '98'], ['101', '102', '103', '97', '99']]"
      ]
     },
     "execution_count": 7,
     "metadata": {},
     "output_type": "execute_result"
    }
   ],
   "source": [
    "participants = data.groupByKey().map(lambda u_b: sorted(list(set(u_b[1]))))\n",
    "participants.take(2)"
   ]
  },
  {
   "cell_type": "code",
   "execution_count": 8,
   "metadata": {},
   "outputs": [
    {
     "data": {
      "text/plain": [
       "19"
      ]
     },
     "execution_count": 8,
     "metadata": {},
     "output_type": "execute_result"
    }
   ],
   "source": [
    "len_data = participants.count()\n",
    "len_data"
   ]
  },
  {
   "cell_type": "code",
   "execution_count": 9,
   "metadata": {},
   "outputs": [],
   "source": [
    "def PCY_first_pass(participants, n_buckets, **kwargs):\n",
    "    def hash_func(p, n_buckets):\n",
    "#         return str(sum(p) % n_buckets)\n",
    "        return str((int(p[0]) + int(p[1])) % n_buckets)\n",
    "\n",
    "    partitions = list(participants)\n",
    "    ps = math.ceil(support * len(partitions) / len_data)\n",
    "\n",
    "    counts = {}\n",
    "    bitmap = {}\n",
    "    for pars in partitions:\n",
    "        for p in pars:\n",
    "            if p in counts:\n",
    "                counts[p] += 1\n",
    "            else:\n",
    "                counts[p] = 1\n",
    "\n",
    "        for p in combinations(pars, 2):\n",
    "            k = hash_func(p, n_buckets)\n",
    "            if k in bitmap:\n",
    "                bitmap[k][0] += 1\n",
    "                bitmap[k][1].add(p)\n",
    "            else:\n",
    "                bitmap[k] = [1, {p}]\n",
    "\n",
    "    frequency = dict(filter(lambda p_c: p_c[1]>=ps, counts.items()))\n",
    "    freq_items = sorted(list(set(frequency.keys()))) # need to be sorted to make sure ('99','97')==('97','99')\n",
    "    freq_items = [(i,) for i in freq_items]\n",
    "    bitmap = dict(filter(lambda c: c[1][0]>=ps, bitmap.items()))\n",
    "    freq_buckets = set()\n",
    "    for _,bsk in bitmap.values():\n",
    "        freq_buckets = freq_buckets | bsk\n",
    "\n",
    "    return freq_items, freq_buckets\n",
    "#     return freq_items, bitmap\n",
    "\n",
    "def PCY_second_pass(partition, freq_items, freq_buckets):\n",
    "    \n",
    "    for bsk in partition:\n",
    "        bsk = sorted(list(set(bsk) & set(freq_items)))\n",
    "    \n",
    "    freq_item_pairs = set()\n",
    "#         for f_i in freq_items:                    ###### pairs of different partitions?\n",
    "    comb = combinations(freq_items, 2)\n",
    "    for cmb in comb:\n",
    "        freq_item_pairs.add(cmb)\n",
    "    candidates = freq_item_pairs & freq_buckets\n",
    "\n",
    "        \n",
    "        \n",
    "    \n",
    "def PCY(participants, n_buckets, **kwargs):\n",
    "    freq_items, freq_buckets = PCY_first_pass(participants, n_buckets)\n",
    "    candidates = PCY_second_pass(freq_items, freq_buckets)\n",
    "    \n",
    "    return freq_items, candidates"
   ]
  },
  {
   "cell_type": "code",
   "execution_count": 10,
   "metadata": {
    "scrolled": true
   },
   "outputs": [
    {
     "data": {
      "text/plain": [
       "[[('100',), ('101',), ('102',), ('97',), ('98',), ('99',)],\n",
       " {('100', '101'),\n",
       "  ('100', '102'),\n",
       "  ('100', '105'),\n",
       "  ('100', '106'),\n",
       "  ('100', '107'),\n",
       "  ('100', '108'),\n",
       "  ('100', '98'),\n",
       "  ('100', '99'),\n",
       "  ('101', '102'),\n",
       "  ('101', '105'),\n",
       "  ('101', '106'),\n",
       "  ('101', '107'),\n",
       "  ('101', '97'),\n",
       "  ('101', '98'),\n",
       "  ('101', '99'),\n",
       "  ('102', '103'),\n",
       "  ('102', '104'),\n",
       "  ('102', '105'),\n",
       "  ('102', '106'),\n",
       "  ('102', '97'),\n",
       "  ('102', '98'),\n",
       "  ('102', '99'),\n",
       "  ('103', '104'),\n",
       "  ('103', '97'),\n",
       "  ('103', '98'),\n",
       "  ('103', '99'),\n",
       "  ('104', '97'),\n",
       "  ('104', '98'),\n",
       "  ('104', '99'),\n",
       "  ('105', '98'),\n",
       "  ('107', '98'),\n",
       "  ('108', '98'),\n",
       "  ('97', '98'),\n",
       "  ('97', '99'),\n",
       "  ('98', '99')},\n",
       " [('100',), ('101',), ('102',), ('103',), ('105',), ('97',), ('98',), ('99',)],\n",
       " {('100', '101'),\n",
       "  ('100', '102'),\n",
       "  ('100', '103'),\n",
       "  ('100', '105'),\n",
       "  ('100', '106'),\n",
       "  ('100', '107'),\n",
       "  ('100', '108'),\n",
       "  ('100', '97'),\n",
       "  ('100', '98'),\n",
       "  ('100', '99'),\n",
       "  ('101', '102'),\n",
       "  ('101', '103'),\n",
       "  ('101', '105'),\n",
       "  ('101', '106'),\n",
       "  ('101', '107'),\n",
       "  ('101', '108'),\n",
       "  ('101', '97'),\n",
       "  ('101', '98'),\n",
       "  ('101', '99'),\n",
       "  ('102', '103'),\n",
       "  ('102', '105'),\n",
       "  ('102', '106'),\n",
       "  ('102', '107'),\n",
       "  ('102', '108'),\n",
       "  ('102', '97'),\n",
       "  ('102', '98'),\n",
       "  ('102', '99'),\n",
       "  ('103', '105'),\n",
       "  ('103', '106'),\n",
       "  ('103', '107'),\n",
       "  ('103', '108'),\n",
       "  ('103', '97'),\n",
       "  ('103', '98'),\n",
       "  ('103', '99'),\n",
       "  ('105', '106'),\n",
       "  ('105', '108'),\n",
       "  ('105', '97'),\n",
       "  ('105', '98'),\n",
       "  ('105', '99'),\n",
       "  ('106', '107'),\n",
       "  ('106', '98'),\n",
       "  ('106', '99'),\n",
       "  ('107', '98'),\n",
       "  ('107', '99'),\n",
       "  ('108', '98'),\n",
       "  ('108', '99'),\n",
       "  ('97', '98'),\n",
       "  ('97', '99'),\n",
       "  ('98', '99')}]"
      ]
     },
     "execution_count": 10,
     "metadata": {},
     "output_type": "execute_result"
    }
   ],
   "source": [
    "# candidates = participants.mapPartitions(lambda b: PCY(b, n_buckets=99))\n",
    "candidates = participants.mapPartitions(lambda b: PCY_first_pass(b, n_buckets=99))\n",
    "candidates.collect()"
   ]
  },
  {
   "cell_type": "code",
   "execution_count": null,
   "metadata": {},
   "outputs": [],
   "source": [
    "candidates.flatMap(lambda pairs: pairs).distinct() \\\n",
    "        .sortBy(lambda pairs: (len(pairs), pairs)).collect()"
   ]
  },
  {
   "cell_type": "code",
   "execution_count": 168,
   "metadata": {},
   "outputs": [
    {
     "data": {
      "text/plain": [
       "28"
      ]
     },
     "execution_count": 168,
     "metadata": {},
     "output_type": "execute_result"
    }
   ],
   "source": [
    "a = {('100', '101'),('100', '102'),('100', '98'),('100', '99'),('101', '102'),('101', '97'),('101', '98'),('101', '99'),('102', '97'),('102', '98'),('102', '99'),('97', '98'),('97', '99'),('98', '99')} | \\\n",
    "{('100', '101'),('100', '102'),('100', '103'),('100', '105'),('100', '97'),('100', '98'),('100', '99'),('101', '102'),('101', '103'),('101', '105'),('101', '97'),('101', '98'),('101', '99'),('102', '103'),('102', '105'),('102', '97'),('102', '98'),('102', '99'),('103', '105'),('103', '97'),('103', '98'),('103', '99'),('105', '97'),('105', '98'),('105', '99'),('97', '98'),('97', '99'),('98', '99')}\n",
    "len(a)"
   ]
  },
  {
   "cell_type": "code",
   "execution_count": 169,
   "metadata": {},
   "outputs": [],
   "source": [
    "b = set([('100', '101'), ('100', '98'), ('100', '99'), ('101', '102'), ('101', '97'), ('101', '98'), ('101', '99'), \n",
    " ('102', '103'), ('102', '105'), ('102', '97'), ('102', '98'), ('102', '99'), ('103', '105'), ('103', '98'), \n",
    " ('103', '99'), ('105', '98'), ('105', '99'), ('97', '98'), ('97', '99'), ('98', '99'), ])"
   ]
  },
  {
   "cell_type": "code",
   "execution_count": 170,
   "metadata": {},
   "outputs": [
    {
     "data": {
      "text/plain": [
       "20"
      ]
     },
     "execution_count": 170,
     "metadata": {},
     "output_type": "execute_result"
    }
   ],
   "source": [
    "len(b)"
   ]
  },
  {
   "cell_type": "code",
   "execution_count": 171,
   "metadata": {},
   "outputs": [
    {
     "data": {
      "text/plain": [
       "{('100', '102'),\n",
       " ('100', '103'),\n",
       " ('100', '105'),\n",
       " ('100', '97'),\n",
       " ('101', '103'),\n",
       " ('101', '105'),\n",
       " ('103', '97'),\n",
       " ('105', '97')}"
      ]
     },
     "execution_count": 171,
     "metadata": {},
     "output_type": "execute_result"
    }
   ],
   "source": [
    "a-b"
   ]
  },
  {
   "cell_type": "code",
   "execution_count": 172,
   "metadata": {},
   "outputs": [
    {
     "data": {
      "text/plain": [
       "set()"
      ]
     },
     "execution_count": 172,
     "metadata": {},
     "output_type": "execute_result"
    }
   ],
   "source": [
    "b-a"
   ]
  },
  {
   "cell_type": "code",
   "execution_count": null,
   "metadata": {},
   "outputs": [],
   "source": []
  },
  {
   "cell_type": "code",
   "execution_count": null,
   "metadata": {},
   "outputs": [],
   "source": []
  },
  {
   "cell_type": "code",
   "execution_count": null,
   "metadata": {},
   "outputs": [],
   "source": [
    "[('100',), ('101',), ('102',), ('103',), ('105',), ('97',), ('98',), ('99',), \n",
    " ('100', '101'), ('100', '98'), ('100', '99'), ('101', '102'), ('101', '97'), ('101', '98'), ('101', '99'), \n",
    " ('102', '103'), ('102', '105'), ('102', '97'), ('102', '98'), ('102', '99'), ('103', '105'), ('103', '98'), \n",
    " ('103', '99'), ('105', '98'), ('105', '99'), ('97', '98'), ('97', '99'), ('98', '99'), \n",
    " \n",
    " ('100', '101', '98'), ('100', '101', '99'), ('101', '97', '99'), ('102', '103', '105'), ('102', '103', '98'), \n",
    " ('102', '103', '99'), ('102', '105', '98'), ('102', '105', '99'), ('102', '98', '99'), ('103', '105', '98'), \n",
    " ('103', '105', '99'), ('103', '98', '99'), ('105', '98', '99'), ('97', '98', '99'), \n",
    " ('102', '103', '105', '98'), ('102', '103', '105', '99'), ('102', '103', '98', '99'), \n",
    " ('102', '105', '98', '99'), ('103', '105', '98', '99'), \n",
    " ('102', '103', '105', '98', '99')]\n"
   ]
  },
  {
   "cell_type": "code",
   "execution_count": null,
   "metadata": {},
   "outputs": [],
   "source": []
  },
  {
   "cell_type": "code",
   "execution_count": null,
   "metadata": {},
   "outputs": [],
   "source": []
  },
  {
   "cell_type": "code",
   "execution_count": null,
   "metadata": {},
   "outputs": [],
   "source": []
  },
  {
   "cell_type": "code",
   "execution_count": null,
   "metadata": {},
   "outputs": [],
   "source": []
  },
  {
   "cell_type": "code",
   "execution_count": null,
   "metadata": {},
   "outputs": [],
   "source": []
  },
  {
   "cell_type": "code",
   "execution_count": null,
   "metadata": {},
   "outputs": [],
   "source": []
  },
  {
   "cell_type": "code",
   "execution_count": null,
   "metadata": {},
   "outputs": [],
   "source": []
  },
  {
   "cell_type": "code",
   "execution_count": null,
   "metadata": {},
   "outputs": [],
   "source": []
  },
  {
   "cell_type": "markdown",
   "metadata": {},
   "source": [
    "#### Case 2 (4.25 pts)"
   ]
  },
  {
   "cell_type": "markdown",
   "metadata": {},
   "source": [
    "You will calculate the combinations of frequent users (as singletons, pairs, triples, etc.) that are qualified as “frequent” given a support threshold. You need to create a basket for each business containing the user ids that commented on this business. Similar to case 1, the user ids within each basket are unique. The generated baskets are similar to:\n",
    "\n",
    "business1: [user11, user12, user13, ...] \n",
    "\n",
    "business2: [user21, user22, user23, ...] \n",
    "\n",
    "business3: [user31, user32, user33, ...]"
   ]
  },
  {
   "cell_type": "code",
   "execution_count": null,
   "metadata": {},
   "outputs": [],
   "source": []
  },
  {
   "cell_type": "code",
   "execution_count": null,
   "metadata": {},
   "outputs": [],
   "source": []
  },
  {
   "cell_type": "code",
   "execution_count": null,
   "metadata": {},
   "outputs": [],
   "source": []
  },
  {
   "cell_type": "code",
   "execution_count": null,
   "metadata": {},
   "outputs": [],
   "source": []
  },
  {
   "cell_type": "code",
   "execution_count": null,
   "metadata": {},
   "outputs": [],
   "source": []
  },
  {
   "cell_type": "code",
   "execution_count": null,
   "metadata": {},
   "outputs": [],
   "source": [
    "with open(output_file, 'w+') as o:\n",
    "    json.dump(results, o)"
   ]
  }
 ],
 "metadata": {
  "kernelspec": {
   "display_name": "Python 3",
   "language": "python",
   "name": "python3"
  },
  "language_info": {
   "codemirror_mode": {
    "name": "ipython",
    "version": 3
   },
   "file_extension": ".py",
   "mimetype": "text/x-python",
   "name": "python",
   "nbconvert_exporter": "python",
   "pygments_lexer": "ipython3",
   "version": "3.6.10"
  },
  "toc": {
   "base_numbering": 1,
   "nav_menu": {},
   "number_sections": false,
   "sideBar": true,
   "skip_h1_title": false,
   "title_cell": "Table of Contents",
   "title_sidebar": "Contents",
   "toc_cell": false,
   "toc_position": {},
   "toc_section_display": true,
   "toc_window_display": true
  },
  "varInspector": {
   "cols": {
    "lenName": 16,
    "lenType": 16,
    "lenVar": 40
   },
   "kernels_config": {
    "python": {
     "delete_cmd_postfix": "",
     "delete_cmd_prefix": "del ",
     "library": "var_list.py",
     "varRefreshCmd": "print(var_dic_list())"
    },
    "r": {
     "delete_cmd_postfix": ") ",
     "delete_cmd_prefix": "rm(",
     "library": "var_list.r",
     "varRefreshCmd": "cat(var_dic_list()) "
    }
   },
   "types_to_exclude": [
    "module",
    "function",
    "builtin_function_or_method",
    "instance",
    "_Feature"
   ],
   "window_display": false
  }
 },
 "nbformat": 4,
 "nbformat_minor": 2
}
